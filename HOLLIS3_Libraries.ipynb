{
 "cells": [
  {
   "cell_type": "markdown",
   "id": "f2674fba",
   "metadata": {},
   "source": [
    "# ADS Libraries for HOLLIS\n",
    "-- Add new bibcodes to hollis_library file"
   ]
  },
  {
   "cell_type": "code",
   "execution_count": null,
   "id": "bf346460",
   "metadata": {},
   "outputs": [],
   "source": [
    "import pandas as pd\n",
    "import numpy as np\n",
    "import requests\n",
    "import json\n",
    "\n",
    "# -- Create ADS Library \n",
    "# # Open my excel sheet as a data frame\n",
    "# df = pd.read_excel(\"/Users/sao/Documents/Python-Projects/hollis_harvest/hollis_library.xlsx\", sheet_name=0)\n",
    "\n",
    "# # Take bibcode list, drop nulls and duplicates\n",
    "# df = df['BIBCODE'].replace('indexed', np.nan)\n",
    "# df = df.replace('Indexed', np.nan)\n",
    "# df = df.dropna()\n",
    "# df = df.drop_duplicates(keep=\"last\")\n",
    "\n",
    "# # Format bibcodes to list\n",
    "# bibs = df.to_list()\n",
    "# print(\"Number of bibcodes:\", len(bibs))\n",
    "\n",
    "# # --- API REQUEST --- \n",
    "# token = \"pHazHxvHjPVPAcotvj7DIijROZXUjG5vXa2OaCQO\"\n",
    "# url = \"https://api.adsabs.harvard.edu/v1/biblib/libraries\"\n",
    "    \n",
    "# data = { \n",
    "#     \"name\":\"HOLLIS Library\",\n",
    "#     \"description\":\"Library of records ADS matches of HOLLIS holdings (including new ingests)\",\n",
    "#     \"public\": True,\n",
    "#     \"bibcode\": bibs\n",
    "# }\n",
    "# headers = {'Authorization': 'Bearer ' + token}\n",
    "# response = requests.post(url, data=json.dumps(data), headers=headers)\n",
    "\n",
    "# print(\"ADS Libraries Status Code:\", response.status_code)\n",
    "\n",
    "# -- Update/Add Bibcodes to ADS Library\n",
    "df = pd.read_excel(\"/Users/sao/Documents/Python-Projects/hollis_harvest/hollis_library.xlsx\", sheet_name=0)\n",
    "\n",
    "# Grab the bibcodes\n",
    "bib_list = df['BIBCODE'].to_list()\n",
    "\n",
    "# My ADS API token, and the base url for the ADS Libraries API\n",
    "token = \"pHazHxvHjPVPAcotvj7DIijROZXUjG5vXa2OaCQO\"\n",
    "url = \"https://api.adsabs.harvard.edu/v1/biblib/documents/s4KnecL8Rrevv_uSlmcr0A\"\n",
    "\n",
    "data = { \n",
    "    \"bibcode\": bib_list,\n",
    "    \"action\": \"add\"\n",
    "        }\n",
    "headers = {'Authorization': 'Bearer ' + token}\n",
    "    \n",
    "# Send the API request\n",
    "response = requests.post(url=url, data=json.dumps(data), headers=headers)\n",
    "if response.status_code == 200:\n",
    "    print('Success: Added bibcodes to Library')\n",
    "else:\n",
    "    print('From ADS status_code is ', response.status_code)"
   ]
  }
 ],
 "metadata": {
  "kernelspec": {
   "display_name": "Python 3",
   "language": "python",
   "name": "python3"
  },
  "language_info": {
   "codemirror_mode": {
    "name": "ipython",
    "version": 3
   },
   "file_extension": ".py",
   "mimetype": "text/x-python",
   "name": "python",
   "nbconvert_exporter": "python",
   "pygments_lexer": "ipython3",
   "version": "3.8.8"
  }
 },
 "nbformat": 4,
 "nbformat_minor": 5
}
